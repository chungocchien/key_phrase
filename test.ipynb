{
 "cells": [
  {
   "cell_type": "code",
   "execution_count": 1,
   "metadata": {},
   "outputs": [],
   "source": [
    "import json\n",
    "\n",
    "# Open and read the JSON file\n",
    "with open('final.json', 'r', encoding='utf-8') as file:\n",
    "    data = json.load(file)"
   ]
  },
  {
   "cell_type": "code",
   "execution_count": 6,
   "metadata": {},
   "outputs": [],
   "source": [
    "for item in data:\n",
    "    if 'label' in item:\n",
    "        item['label'] = [1 if x == 2 else x for x in item['label']]"
   ]
  },
  {
   "cell_type": "code",
   "execution_count": 7,
   "metadata": {},
   "outputs": [
    {
     "data": {
      "text/plain": [
       "{'text': ['Truyền', 'hình', 'tiếng', 'Chăm', 'Hroi', 'ngày', '15112023'],\n",
       " 'custom_id': 'task-0',\n",
       " 'explaination': 'The post contains specific information about a television broadcast in the Cham language on a particular date, which makes it suitable for keyphrase extraction. The keyphrase \"Truyền hình tiếng Chăm\" stands out as it refers to a specific type of broadcast, while the date \"15112023\" is also significant. However, since the instruction is to limit to one or two keyphrases, I will select \"Truyền hình tiếng Chăm\" as the primary keyphrase.',\n",
       " 'keyphrase': ['Truyền hình tiếng Chăm'],\n",
       " 'label': [1, 1, 1, 1, 1, 0, 0]}"
      ]
     },
     "execution_count": 7,
     "metadata": {},
     "output_type": "execute_result"
    }
   ],
   "source": [
    "data[0]"
   ]
  },
  {
   "cell_type": "code",
   "execution_count": 10,
   "metadata": {},
   "outputs": [],
   "source": [
    "with open('updated_data.json', 'w', encoding='utf-8') as file:\n",
    "    json.dump(data, file, indent=4, ensure_ascii=False)"
   ]
  },
  {
   "cell_type": "code",
   "execution_count": null,
   "metadata": {},
   "outputs": [],
   "source": []
  }
 ],
 "metadata": {
  "kernelspec": {
   "display_name": "base",
   "language": "python",
   "name": "python3"
  },
  "language_info": {
   "codemirror_mode": {
    "name": "ipython",
    "version": 3
   },
   "file_extension": ".py",
   "mimetype": "text/x-python",
   "name": "python",
   "nbconvert_exporter": "python",
   "pygments_lexer": "ipython3",
   "version": "3.9.13"
  }
 },
 "nbformat": 4,
 "nbformat_minor": 2
}
