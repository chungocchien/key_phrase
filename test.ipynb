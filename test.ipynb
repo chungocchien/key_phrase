{
 "cells": [
  {
   "cell_type": "code",
   "execution_count": 2,
   "metadata": {},
   "outputs": [],
   "source": [
    "import json\n",
    "\n",
    "# Open and read the JSON file\n",
    "with open('updated_data.json', 'r', encoding='utf-8') as file:\n",
    "    data = json.load(file)"
   ]
  },
  {
   "cell_type": "code",
   "execution_count": 3,
   "metadata": {},
   "outputs": [
    {
     "data": {
      "text/plain": [
       "72"
      ]
     },
     "execution_count": 3,
     "metadata": {},
     "output_type": "execute_result"
    }
   ],
   "source": [
    "len(data[31]['text'])"
   ]
  },
  {
   "cell_type": "code",
   "execution_count": 99,
   "metadata": {},
   "outputs": [
    {
     "name": "stdout",
     "output_type": "stream",
     "text": [
      "Nhiều Thằng nó mua đồ kỳ lắm Muốn nhanh có liền khỏi chờ thì chạy qua xem TIỀN TƯƠI RỚT xuống đi chớ chớ Cái kiểu trả giá 23 triệu đồ này rẻ lắm với mấy thằng KHÔNG BIẾT CHƠI ẤY thì mời bạn ORDER 30 ngày mà nhận HÀNG Tiền vẫn là của BẠN mà ĐỒ THÌ cuar MÌNH Mình không nhất thiết BÁN kiểu ĐÓ CẶP MÂM FXR FULL QUA TRẢ 1tr5 CÓ bao nhiêu mình thu hết nè\n"
     ]
    }
   ],
   "source": [
    "print(' '.join(data[263\n",
    "              ]['text']))"
   ]
  },
  {
   "cell_type": "markdown",
   "metadata": {},
   "source": []
  },
  {
   "cell_type": "code",
   "execution_count": 98,
   "metadata": {},
   "outputs": [
    {
     "name": "stdout",
     "output_type": "stream",
     "text": [
      "[0, 0, 0, 0, 1, 1, 1, 1, 1, 1, 0, 0, 0, 0, 0, 0, 0, 0, 0, 0, 0, 0, 0, 0, 0, 0, 0, 0, 0, 1, 1, 1, 1, 1, 1, 1, 1, 1, 1, 1, 1, 0, 0, 0, 0, 0, 0, 0, 0, 0, 0, 0, 0, 0, 0, 0, 0, 0, 0, 0, 0, 0, 0, 0, 0, 0, 0, 0, 0, 0, 0, 0, 0, 0, 0, 0, 0, 0, 0, 0, 0, 0, 0, 0, 0, 0, 0, 0, 0, 0, 0, 0, 0, 0, 0, 0, 0, 0, 0, 0, 0, 0, 0, 0, 0, 0, 0, 0, 0, 0, 0, 0, 0, 0]\n"
     ]
    }
   ],
   "source": [
    "def label_keyphrase(sentence, keyphrases):\n",
    "    # Khởi tạo mảng label với giá trị mặc định là 0, độ dài bằng số từ trong câu\n",
    "    sentence_tokens = sentence.split()\n",
    "    labels = [0] * len(sentence_tokens)\n",
    "\n",
    "    # Xử lý từng keyphrase trong mảng keyphrases\n",
    "    for keyphrase in keyphrases:\n",
    "        keyphrase_tokens = keyphrase.split()\n",
    "        n = len(keyphrase_tokens)\n",
    "\n",
    "        # Tìm vị trí bắt đầu của keyphrase trong câu\n",
    "        for i in range(len(sentence_tokens) - n + 1):\n",
    "            if sentence_tokens[i:i + n] == keyphrase_tokens:\n",
    "                # Gán giá trị 1 cho các vị trí thuộc keyphrase\n",
    "                for j in range(i, i + n):\n",
    "                    labels[j] = 1\n",
    "\n",
    "    return labels\n",
    "s = '''\n",
    "'MC của Hội nghị Nhân sự Việt nam trong một toạ đàm có chủ đề chiến lược nhân sự trong hành trình từ sinh tồn đến thịnh vượng mở màn Con người đúng là loài động vật cấp cao vô cùng phức tạp…… Và hôm nay em được tham gia một vài toạ đàm về các chủ đề xoay qoanh loài động vật cấp cao'\n",
    "'''\n",
    "\n",
    "keyphrases = [\n",
    "            \"Tân Trại mình ko đi đâu\",\n",
    "            \"Cảng hàng không quốc tế thứ hai\",\n",
    "            \"vị trí ở huyện Ứng Hòa và một phần huyện Phú Xuyên\"\n",
    "        ]\n",
    "labels = label_keyphrase(' '.join(data[258\n",
    "              ]['text']), keyphrases)\n",
    "print(labels)\n"
   ]
  },
  {
   "cell_type": "code",
   "execution_count": 7,
   "metadata": {},
   "outputs": [
    {
     "data": {
      "text/plain": [
       "{'text': ['Truyền', 'hình', 'tiếng', 'Chăm', 'Hroi', 'ngày', '15112023'],\n",
       " 'custom_id': 'task-0',\n",
       " 'explaination': 'The post contains specific information about a television broadcast in the Cham language on a particular date, which makes it suitable for keyphrase extraction. The keyphrase \"Truyền hình tiếng Chăm\" stands out as it refers to a specific type of broadcast, while the date \"15112023\" is also significant. However, since the instruction is to limit to one or two keyphrases, I will select \"Truyền hình tiếng Chăm\" as the primary keyphrase.',\n",
       " 'keyphrase': ['Truyền hình tiếng Chăm'],\n",
       " 'label': [1, 1, 1, 1, 1, 0, 0]}"
      ]
     },
     "execution_count": 7,
     "metadata": {},
     "output_type": "execute_result"
    }
   ],
   "source": [
    "data[0]"
   ]
  },
  {
   "cell_type": "code",
   "execution_count": 10,
   "metadata": {},
   "outputs": [],
   "source": [
    "\n",
    "\n",
    "with open('updated_data.json', 'w', encoding='utf-8') as file:\n",
    "    json.dump(data, file, indent=4, ensure_ascii=False)"
   ]
  },
  {
   "cell_type": "code",
   "execution_count": null,
   "metadata": {},
   "outputs": [],
   "source": []
  }
 ],
 "metadata": {
  "kernelspec": {
   "display_name": "base",
   "language": "python",
   "name": "python3"
  },
  "language_info": {
   "codemirror_mode": {
    "name": "ipython",
    "version": 3
   },
   "file_extension": ".py",
   "mimetype": "text/x-python",
   "name": "python",
   "nbconvert_exporter": "python",
   "pygments_lexer": "ipython3",
   "version": "3.9.13"
  }
 },
 "nbformat": 4,
 "nbformat_minor": 2
}
